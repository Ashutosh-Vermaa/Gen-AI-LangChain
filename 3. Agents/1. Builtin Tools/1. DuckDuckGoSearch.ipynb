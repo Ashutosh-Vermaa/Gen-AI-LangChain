{
 "cells": [
  {
   "cell_type": "markdown",
   "id": "78d09775",
   "metadata": {},
   "source": [
    "## Built-in tool: DuckDuckGoSearchRun\n",
    "Used to do Internet search"
   ]
  },
  {
   "cell_type": "code",
   "execution_count": 4,
   "id": "8a3333f7",
   "metadata": {},
   "outputs": [
    {
     "name": "stdout",
     "output_type": "stream",
     "text": [
      "Collecting duckduckgo-search\n",
      "  Using cached duckduckgo_search-8.0.3-py3-none-any.whl.metadata (16 kB)\n",
      "Requirement already satisfied: click>=8.1.8 in d:\\documents\\langchain\\langchain\\lib\\site-packages (from duckduckgo-search) (8.2.1)\n",
      "Collecting primp>=0.15.0 (from duckduckgo-search)\n",
      "  Using cached primp-0.15.0-cp38-abi3-win_amd64.whl.metadata (13 kB)\n",
      "Collecting lxml>=5.3.0 (from duckduckgo-search)\n",
      "  Using cached lxml-5.4.0-cp313-cp313-win_amd64.whl.metadata (3.6 kB)\n",
      "Requirement already satisfied: colorama in d:\\documents\\langchain\\langchain\\lib\\site-packages (from click>=8.1.8->duckduckgo-search) (0.4.6)\n",
      "Downloading duckduckgo_search-8.0.3-py3-none-any.whl (18 kB)\n",
      "Downloading lxml-5.4.0-cp313-cp313-win_amd64.whl (3.8 MB)\n",
      "   ---------------------------------------- 0.0/3.8 MB ? eta -:--:--\n",
      "   ---------------------------------------- 0.0/3.8 MB ? eta -:--:--\n",
      "   -- ------------------------------------- 0.3/3.8 MB ? eta -:--:--\n",
      "   ----- ---------------------------------- 0.5/3.8 MB 1.2 MB/s eta 0:00:03\n",
      "   -------- ------------------------------- 0.8/3.8 MB 1.1 MB/s eta 0:00:03\n",
      "   ---------- ----------------------------- 1.0/3.8 MB 1.1 MB/s eta 0:00:03\n",
      "   ------------- -------------------------- 1.3/3.8 MB 1.1 MB/s eta 0:00:03\n",
      "   ---------------- ----------------------- 1.6/3.8 MB 1.2 MB/s eta 0:00:02\n",
      "   ------------------- -------------------- 1.8/3.8 MB 1.2 MB/s eta 0:00:02\n",
      "   --------------------- ------------------ 2.1/3.8 MB 1.2 MB/s eta 0:00:02\n",
      "   ------------------------ --------------- 2.4/3.8 MB 1.2 MB/s eta 0:00:02\n",
      "   --------------------------- ------------ 2.6/3.8 MB 1.3 MB/s eta 0:00:01\n",
      "   ------------------------------ --------- 2.9/3.8 MB 1.3 MB/s eta 0:00:01\n",
      "   -------------------------------- ------- 3.1/3.8 MB 1.2 MB/s eta 0:00:01\n",
      "   ----------------------------------- ---- 3.4/3.8 MB 1.2 MB/s eta 0:00:01\n",
      "   -------------------------------------- - 3.7/3.8 MB 1.3 MB/s eta 0:00:01\n",
      "   ---------------------------------------- 3.8/3.8 MB 1.2 MB/s eta 0:00:00\n",
      "Downloading primp-0.15.0-cp38-abi3-win_amd64.whl (3.1 MB)\n",
      "   ---------------------------------------- 0.0/3.1 MB ? eta -:--:--\n",
      "   --- ------------------------------------ 0.3/3.1 MB ? eta -:--:--\n",
      "   ------ --------------------------------- 0.5/3.1 MB 1.2 MB/s eta 0:00:03\n",
      "   ------ --------------------------------- 0.5/3.1 MB 1.2 MB/s eta 0:00:03\n",
      "   --------- ------------------------------ 0.8/3.1 MB 1.1 MB/s eta 0:00:03\n",
      "   ------------- -------------------------- 1.0/3.1 MB 1.1 MB/s eta 0:00:02\n",
      "   ---------------- ----------------------- 1.3/3.1 MB 1.1 MB/s eta 0:00:02\n",
      "   ------------------- -------------------- 1.6/3.1 MB 1.0 MB/s eta 0:00:02\n",
      "   ------------------- -------------------- 1.6/3.1 MB 1.0 MB/s eta 0:00:02\n",
      "   ----------------------- ---------------- 1.8/3.1 MB 1.0 MB/s eta 0:00:02\n",
      "   -------------------------- ------------- 2.1/3.1 MB 970.9 kB/s eta 0:00:02\n",
      "   ----------------------------- ---------- 2.4/3.1 MB 995.4 kB/s eta 0:00:01\n",
      "   ----------------------------- ---------- 2.4/3.1 MB 995.4 kB/s eta 0:00:01\n",
      "   --------------------------------- ------ 2.6/3.1 MB 996.7 kB/s eta 0:00:01\n",
      "   ------------------------------------ --- 2.9/3.1 MB 991.0 kB/s eta 0:00:01\n",
      "   ---------------------------------------  3.1/3.1 MB 1.0 MB/s eta 0:00:01\n",
      "   ---------------------------------------- 3.1/3.1 MB 960.7 kB/s eta 0:00:00\n",
      "Installing collected packages: primp, lxml, duckduckgo-search\n"
     ]
    },
    {
     "name": "stderr",
     "output_type": "stream",
     "text": [
      "ERROR: Could not install packages due to an OSError: [WinError 32] The process cannot access the file because it is being used by another process: 'D:\\\\Documents\\\\LangChain\\\\langchain\\\\Lib\\\\site-packages\\\\primp-0.15.0.dist-info\\\\METADATA'\n",
      "Check the permissions.\n",
      "\n",
      "\n",
      "[notice] A new release of pip is available: 25.0.1 -> 25.1.1\n",
      "[notice] To update, run: python.exe -m pip install --upgrade pip\n"
     ]
    }
   ],
   "source": [
    "!pip install -U duckduckgo-search"
   ]
  },
  {
   "cell_type": "code",
   "execution_count": 7,
   "id": "b34c10ab",
   "metadata": {},
   "outputs": [
    {
     "name": "stdout",
     "output_type": "stream",
     "text": [
      "Watch ABC News live news stream and get 24/7 latest, breaking news coverage, and live video. NPR news, audio, and podcasts. Coverage of breaking stories, national and world news, politics, business, science, technology, and extended coverage of major national and world events. Live news, investigations, opinion, photos and video by the journalists of The New York Times from more than 150 countries around the world. Subscribe for coverage of U.S. and international news ... Reuters.com is your online source for the latest US news stories and current events, ensuring our readers up to date with any breaking news developments Read real-time breaking news as it develops with Eyewitness News News Feed on abc7ny.com. Stay up-to-date with New York news as well as U.S. and world news stories.\n"
     ]
    }
   ],
   "source": [
    "from langchain_community.tools import DuckDuckGoSearchRun\n",
    "\n",
    "search_tool=DuckDuckGoSearchRun()\n",
    "results= search_tool.invoke(\"what is the lastest news today?\")\n",
    "print(results)"
   ]
  },
  {
   "cell_type": "markdown",
   "id": "3d132e77",
   "metadata": {},
   "source": [
    "## Shell Tool\n",
    "\n",
    "Used to run commands on command line "
   ]
  },
  {
   "cell_type": "code",
   "execution_count": 9,
   "id": "9ad90c33",
   "metadata": {},
   "outputs": [
    {
     "name": "stdout",
     "output_type": "stream",
     "text": [
      "Collecting langchain-experimental\n",
      "  Using cached langchain_experimental-0.3.4-py3-none-any.whl.metadata (1.7 kB)\n",
      "Requirement already satisfied: langchain-community<0.4.0,>=0.3.0 in d:\\documents\\langchain\\langchain\\lib\\site-packages (from langchain-experimental) (0.3.24)\n",
      "Requirement already satisfied: langchain-core<0.4.0,>=0.3.28 in d:\\documents\\langchain\\langchain\\lib\\site-packages (from langchain-experimental) (0.3.63)\n",
      "Requirement already satisfied: langchain<1.0.0,>=0.3.25 in d:\\documents\\langchain\\langchain\\lib\\site-packages (from langchain-community<0.4.0,>=0.3.0->langchain-experimental) (0.3.25)\n",
      "Requirement already satisfied: SQLAlchemy<3,>=1.4 in d:\\documents\\langchain\\langchain\\lib\\site-packages (from langchain-community<0.4.0,>=0.3.0->langchain-experimental) (2.0.41)\n",
      "Requirement already satisfied: requests<3,>=2 in d:\\documents\\langchain\\langchain\\lib\\site-packages (from langchain-community<0.4.0,>=0.3.0->langchain-experimental) (2.32.3)\n",
      "Requirement already satisfied: PyYAML>=5.3 in d:\\documents\\langchain\\langchain\\lib\\site-packages (from langchain-community<0.4.0,>=0.3.0->langchain-experimental) (6.0.2)\n",
      "Requirement already satisfied: aiohttp<4.0.0,>=3.8.3 in d:\\documents\\langchain\\langchain\\lib\\site-packages (from langchain-community<0.4.0,>=0.3.0->langchain-experimental) (3.12.6)\n",
      "Requirement already satisfied: tenacity!=8.4.0,<10,>=8.1.0 in d:\\documents\\langchain\\langchain\\lib\\site-packages (from langchain-community<0.4.0,>=0.3.0->langchain-experimental) (9.1.2)\n",
      "Requirement already satisfied: dataclasses-json<0.7,>=0.5.7 in d:\\documents\\langchain\\langchain\\lib\\site-packages (from langchain-community<0.4.0,>=0.3.0->langchain-experimental) (0.6.7)\n",
      "Requirement already satisfied: pydantic-settings<3.0.0,>=2.4.0 in d:\\documents\\langchain\\langchain\\lib\\site-packages (from langchain-community<0.4.0,>=0.3.0->langchain-experimental) (2.9.1)\n",
      "Requirement already satisfied: langsmith<0.4,>=0.1.125 in d:\\documents\\langchain\\langchain\\lib\\site-packages (from langchain-community<0.4.0,>=0.3.0->langchain-experimental) (0.3.43)\n",
      "Requirement already satisfied: httpx-sse<1.0.0,>=0.4.0 in d:\\documents\\langchain\\langchain\\lib\\site-packages (from langchain-community<0.4.0,>=0.3.0->langchain-experimental) (0.4.0)\n",
      "Requirement already satisfied: numpy>=2.1.0 in d:\\documents\\langchain\\langchain\\lib\\site-packages (from langchain-community<0.4.0,>=0.3.0->langchain-experimental) (2.2.6)\n",
      "Requirement already satisfied: jsonpatch<2.0,>=1.33 in d:\\documents\\langchain\\langchain\\lib\\site-packages (from langchain-core<0.4.0,>=0.3.28->langchain-experimental) (1.33)\n",
      "Requirement already satisfied: packaging<25,>=23.2 in d:\\documents\\langchain\\langchain\\lib\\site-packages (from langchain-core<0.4.0,>=0.3.28->langchain-experimental) (24.2)\n",
      "Requirement already satisfied: typing-extensions>=4.7 in d:\\documents\\langchain\\langchain\\lib\\site-packages (from langchain-core<0.4.0,>=0.3.28->langchain-experimental) (4.13.2)\n",
      "Requirement already satisfied: pydantic>=2.7.4 in d:\\documents\\langchain\\langchain\\lib\\site-packages (from langchain-core<0.4.0,>=0.3.28->langchain-experimental) (2.11.5)\n",
      "Requirement already satisfied: aiohappyeyeballs>=2.5.0 in d:\\documents\\langchain\\langchain\\lib\\site-packages (from aiohttp<4.0.0,>=3.8.3->langchain-community<0.4.0,>=0.3.0->langchain-experimental) (2.6.1)\n",
      "Requirement already satisfied: aiosignal>=1.1.2 in d:\\documents\\langchain\\langchain\\lib\\site-packages (from aiohttp<4.0.0,>=3.8.3->langchain-community<0.4.0,>=0.3.0->langchain-experimental) (1.3.2)\n",
      "Requirement already satisfied: attrs>=17.3.0 in d:\\documents\\langchain\\langchain\\lib\\site-packages (from aiohttp<4.0.0,>=3.8.3->langchain-community<0.4.0,>=0.3.0->langchain-experimental) (25.3.0)\n",
      "Requirement already satisfied: frozenlist>=1.1.1 in d:\\documents\\langchain\\langchain\\lib\\site-packages (from aiohttp<4.0.0,>=3.8.3->langchain-community<0.4.0,>=0.3.0->langchain-experimental) (1.6.0)\n",
      "Requirement already satisfied: multidict<7.0,>=4.5 in d:\\documents\\langchain\\langchain\\lib\\site-packages (from aiohttp<4.0.0,>=3.8.3->langchain-community<0.4.0,>=0.3.0->langchain-experimental) (6.4.4)\n",
      "Requirement already satisfied: propcache>=0.2.0 in d:\\documents\\langchain\\langchain\\lib\\site-packages (from aiohttp<4.0.0,>=3.8.3->langchain-community<0.4.0,>=0.3.0->langchain-experimental) (0.3.1)\n",
      "Requirement already satisfied: yarl<2.0,>=1.17.0 in d:\\documents\\langchain\\langchain\\lib\\site-packages (from aiohttp<4.0.0,>=3.8.3->langchain-community<0.4.0,>=0.3.0->langchain-experimental) (1.20.0)\n",
      "Requirement already satisfied: marshmallow<4.0.0,>=3.18.0 in d:\\documents\\langchain\\langchain\\lib\\site-packages (from dataclasses-json<0.7,>=0.5.7->langchain-community<0.4.0,>=0.3.0->langchain-experimental) (3.26.1)\n",
      "Requirement already satisfied: typing-inspect<1,>=0.4.0 in d:\\documents\\langchain\\langchain\\lib\\site-packages (from dataclasses-json<0.7,>=0.5.7->langchain-community<0.4.0,>=0.3.0->langchain-experimental) (0.9.0)\n",
      "Requirement already satisfied: jsonpointer>=1.9 in d:\\documents\\langchain\\langchain\\lib\\site-packages (from jsonpatch<2.0,>=1.33->langchain-core<0.4.0,>=0.3.28->langchain-experimental) (3.0.0)\n",
      "Requirement already satisfied: langchain-text-splitters<1.0.0,>=0.3.8 in d:\\documents\\langchain\\langchain\\lib\\site-packages (from langchain<1.0.0,>=0.3.25->langchain-community<0.4.0,>=0.3.0->langchain-experimental) (0.3.8)\n",
      "Requirement already satisfied: httpx<1,>=0.23.0 in d:\\documents\\langchain\\langchain\\lib\\site-packages (from langsmith<0.4,>=0.1.125->langchain-community<0.4.0,>=0.3.0->langchain-experimental) (0.28.1)\n",
      "Requirement already satisfied: orjson<4.0.0,>=3.9.14 in d:\\documents\\langchain\\langchain\\lib\\site-packages (from langsmith<0.4,>=0.1.125->langchain-community<0.4.0,>=0.3.0->langchain-experimental) (3.10.18)\n",
      "Requirement already satisfied: requests-toolbelt<2.0.0,>=1.0.0 in d:\\documents\\langchain\\langchain\\lib\\site-packages (from langsmith<0.4,>=0.1.125->langchain-community<0.4.0,>=0.3.0->langchain-experimental) (1.0.0)\n",
      "Requirement already satisfied: zstandard<0.24.0,>=0.23.0 in d:\\documents\\langchain\\langchain\\lib\\site-packages (from langsmith<0.4,>=0.1.125->langchain-community<0.4.0,>=0.3.0->langchain-experimental) (0.23.0)\n",
      "Requirement already satisfied: annotated-types>=0.6.0 in d:\\documents\\langchain\\langchain\\lib\\site-packages (from pydantic>=2.7.4->langchain-core<0.4.0,>=0.3.28->langchain-experimental) (0.7.0)\n",
      "Requirement already satisfied: pydantic-core==2.33.2 in d:\\documents\\langchain\\langchain\\lib\\site-packages (from pydantic>=2.7.4->langchain-core<0.4.0,>=0.3.28->langchain-experimental) (2.33.2)\n",
      "Requirement already satisfied: typing-inspection>=0.4.0 in d:\\documents\\langchain\\langchain\\lib\\site-packages (from pydantic>=2.7.4->langchain-core<0.4.0,>=0.3.28->langchain-experimental) (0.4.1)\n",
      "Requirement already satisfied: python-dotenv>=0.21.0 in d:\\documents\\langchain\\langchain\\lib\\site-packages (from pydantic-settings<3.0.0,>=2.4.0->langchain-community<0.4.0,>=0.3.0->langchain-experimental) (1.1.0)\n",
      "Requirement already satisfied: charset-normalizer<4,>=2 in d:\\documents\\langchain\\langchain\\lib\\site-packages (from requests<3,>=2->langchain-community<0.4.0,>=0.3.0->langchain-experimental) (3.4.2)\n",
      "Requirement already satisfied: idna<4,>=2.5 in d:\\documents\\langchain\\langchain\\lib\\site-packages (from requests<3,>=2->langchain-community<0.4.0,>=0.3.0->langchain-experimental) (3.10)\n",
      "Requirement already satisfied: urllib3<3,>=1.21.1 in d:\\documents\\langchain\\langchain\\lib\\site-packages (from requests<3,>=2->langchain-community<0.4.0,>=0.3.0->langchain-experimental) (2.4.0)\n",
      "Requirement already satisfied: certifi>=2017.4.17 in d:\\documents\\langchain\\langchain\\lib\\site-packages (from requests<3,>=2->langchain-community<0.4.0,>=0.3.0->langchain-experimental) (2025.4.26)\n",
      "Requirement already satisfied: greenlet>=1 in d:\\documents\\langchain\\langchain\\lib\\site-packages (from SQLAlchemy<3,>=1.4->langchain-community<0.4.0,>=0.3.0->langchain-experimental) (3.2.2)\n",
      "Requirement already satisfied: anyio in d:\\documents\\langchain\\langchain\\lib\\site-packages (from httpx<1,>=0.23.0->langsmith<0.4,>=0.1.125->langchain-community<0.4.0,>=0.3.0->langchain-experimental) (4.9.0)\n",
      "Requirement already satisfied: httpcore==1.* in d:\\documents\\langchain\\langchain\\lib\\site-packages (from httpx<1,>=0.23.0->langsmith<0.4,>=0.1.125->langchain-community<0.4.0,>=0.3.0->langchain-experimental) (1.0.9)\n",
      "Requirement already satisfied: h11>=0.16 in d:\\documents\\langchain\\langchain\\lib\\site-packages (from httpcore==1.*->httpx<1,>=0.23.0->langsmith<0.4,>=0.1.125->langchain-community<0.4.0,>=0.3.0->langchain-experimental) (0.16.0)\n",
      "Requirement already satisfied: mypy-extensions>=0.3.0 in d:\\documents\\langchain\\langchain\\lib\\site-packages (from typing-inspect<1,>=0.4.0->dataclasses-json<0.7,>=0.5.7->langchain-community<0.4.0,>=0.3.0->langchain-experimental) (1.1.0)\n",
      "Requirement already satisfied: sniffio>=1.1 in d:\\documents\\langchain\\langchain\\lib\\site-packages (from anyio->httpx<1,>=0.23.0->langsmith<0.4,>=0.1.125->langchain-community<0.4.0,>=0.3.0->langchain-experimental) (1.3.1)\n",
      "Using cached langchain_experimental-0.3.4-py3-none-any.whl (209 kB)\n",
      "Installing collected packages: langchain-experimental\n",
      "Successfully installed langchain-experimental-0.3.4\n"
     ]
    },
    {
     "name": "stderr",
     "output_type": "stream",
     "text": [
      "\n",
      "[notice] A new release of pip is available: 25.0.1 -> 25.1.1\n",
      "[notice] To update, run: python.exe -m pip install --upgrade pip\n"
     ]
    }
   ],
   "source": [
    "!pip install langchain-experimental"
   ]
  },
  {
   "cell_type": "code",
   "execution_count": 11,
   "id": "1ce9563f",
   "metadata": {},
   "outputs": [
    {
     "name": "stdout",
     "output_type": "stream",
     "text": [
      "Executing command:\n",
      " whoammi\n",
      "'whoammi' is not recognized as an internal or external command,\n",
      "operable program or batch file.\n",
      "\n"
     ]
    },
    {
     "name": "stderr",
     "output_type": "stream",
     "text": [
      "d:\\Documents\\LangChain\\langchain\\Lib\\site-packages\\langchain_community\\tools\\shell\\tool.py:33: UserWarning: The shell tool has no safeguards by default. Use at your own risk.\n",
      "  warnings.warn(\n"
     ]
    }
   ],
   "source": [
    "from langchain_community.tools import ShellTool\n",
    "\n",
    "shell_tool=ShellTool()\n",
    "results=shell_tool.invoke(\"whoammi\")\n",
    "# results=shell_tool.invoke(\"ls\")\n",
    "print(results)"
   ]
  },
  {
   "cell_type": "markdown",
   "id": "68fa361c",
   "metadata": {},
   "source": [
    "Go to langchain's Tools page to see all the other Built-in tools"
   ]
  }
 ],
 "metadata": {
  "kernelspec": {
   "display_name": "langchain",
   "language": "python",
   "name": "python3"
  },
  "language_info": {
   "codemirror_mode": {
    "name": "ipython",
    "version": 3
   },
   "file_extension": ".py",
   "mimetype": "text/x-python",
   "name": "python",
   "nbconvert_exporter": "python",
   "pygments_lexer": "ipython3",
   "version": "3.13.3"
  }
 },
 "nbformat": 4,
 "nbformat_minor": 5
}
