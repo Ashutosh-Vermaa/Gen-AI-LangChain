{
 "cells": [
  {
   "cell_type": "code",
   "execution_count": 3,
   "id": "98540417",
   "metadata": {},
   "outputs": [],
   "source": [
    "from langchain.tools import tool\n",
    "from langchain_openai import ChatOpenAI\n",
    "from langchain_core.messages import HumanMessage\n",
    "import requests"
   ]
  },
  {
   "cell_type": "markdown",
   "id": "2869f09b",
   "metadata": {},
   "source": [
    "0. TOOL CREATION"
   ]
  },
  {
   "cell_type": "code",
   "execution_count": 12,
   "id": "91bb46fb",
   "metadata": {},
   "outputs": [
    {
     "name": "stdout",
     "output_type": "stream",
     "text": [
      "28\n"
     ]
    }
   ],
   "source": [
    "@tool\n",
    "def multiply(a:int, b: int)->int:\n",
    "    \"\"\"Given two numbers a and b, this tool return product of a and b \"\"\"\n",
    "    return a*b\n",
    "\n",
    "print(multiply.invoke({'a':4, 'b':7}))"
   ]
  },
  {
   "cell_type": "code",
   "execution_count": 25,
   "id": "9b0ec86b",
   "metadata": {},
   "outputs": [
    {
     "name": "stdout",
     "output_type": "stream",
     "text": [
      "multiply\n",
      "Given two numbers a and b, this tool return product of a and b\n",
      "{'a': {'title': 'A', 'type': 'integer'}, 'b': {'title': 'B', 'type': 'integer'}}\n"
     ]
    }
   ],
   "source": [
    "print(multiply.name)\n",
    "print(multiply.description)\n",
    "print(multiply.args)"
   ]
  },
  {
   "cell_type": "markdown",
   "id": "9cdfe889",
   "metadata": {},
   "source": [
    "1. TOOL BINDING"
   ]
  },
  {
   "cell_type": "code",
   "execution_count": 7,
   "id": "8b0ea75a",
   "metadata": {},
   "outputs": [],
   "source": [
    "llm=ChatOpenAI()\n",
    "\n",
    "llm_with_tools=llm.bind_tools([multiply]) #this is tool binding. NOT all LLMs have tool binding capability"
   ]
  },
  {
   "cell_type": "markdown",
   "id": "e5e12cde",
   "metadata": {},
   "source": [
    "2. TOOL CALLING"
   ]
  },
  {
   "cell_type": "code",
   "execution_count": 8,
   "id": "130dd3ff",
   "metadata": {},
   "outputs": [
    {
     "data": {
      "text/plain": [
       "AIMessage(content=\"I'm here and ready to help you! What can I assist you with today?\", additional_kwargs={'refusal': None}, response_metadata={'token_usage': {'completion_tokens': 18, 'prompt_tokens': 61, 'total_tokens': 79, 'completion_tokens_details': {'accepted_prediction_tokens': 0, 'audio_tokens': 0, 'reasoning_tokens': 0, 'rejected_prediction_tokens': 0}, 'prompt_tokens_details': {'audio_tokens': 0, 'cached_tokens': 0}}, 'model_name': 'gpt-3.5-turbo-0125', 'system_fingerprint': None, 'id': 'chatcmpl-BhQomWNjiy2i1eDuzz8wELYfQxhaJ', 'service_tier': 'default', 'finish_reason': 'stop', 'logprobs': None}, id='run--1c1ce311-1247-46d7-ba15-dcf10198227c-0', usage_metadata={'input_tokens': 61, 'output_tokens': 18, 'total_tokens': 79, 'input_token_details': {'audio': 0, 'cache_read': 0}, 'output_token_details': {'audio': 0, 'reasoning': 0}})"
      ]
     },
     "execution_count": 8,
     "metadata": {},
     "output_type": "execute_result"
    }
   ],
   "source": [
    "llm_with_tools.invoke(\"How are you?\")"
   ]
  },
  {
   "cell_type": "code",
   "execution_count": 26,
   "id": "dd2886bf",
   "metadata": {},
   "outputs": [
    {
     "data": {
      "text/plain": [
       "AIMessage(content='', additional_kwargs={'tool_calls': [{'id': 'call_ZbP5EIEWhs8ti7Z6wcP0ti1I', 'function': {'arguments': '{\"a\":8,\"b\":10}', 'name': 'multiply'}, 'type': 'function'}], 'refusal': None}, response_metadata={'token_usage': {'completion_tokens': 17, 'prompt_tokens': 64, 'total_tokens': 81, 'completion_tokens_details': {'accepted_prediction_tokens': 0, 'audio_tokens': 0, 'reasoning_tokens': 0, 'rejected_prediction_tokens': 0}, 'prompt_tokens_details': {'audio_tokens': 0, 'cached_tokens': 0}}, 'model_name': 'gpt-3.5-turbo-0125', 'system_fingerprint': None, 'id': 'chatcmpl-BhRDnFhaC2PoxLRBRrr4nqJGKAcLX', 'service_tier': 'default', 'finish_reason': 'tool_calls', 'logprobs': None}, id='run--1bd511ed-522b-4e52-a4c1-7ca5b21ee320-0', tool_calls=[{'name': 'multiply', 'args': {'a': 8, 'b': 10}, 'id': 'call_ZbP5EIEWhs8ti7Z6wcP0ti1I', 'type': 'tool_call'}], usage_metadata={'input_tokens': 64, 'output_tokens': 17, 'total_tokens': 81, 'input_token_details': {'audio': 0, 'cache_read': 0}, 'output_token_details': {'audio': 0, 'reasoning': 0}})"
      ]
     },
     "execution_count": 26,
     "metadata": {},
     "output_type": "execute_result"
    }
   ],
   "source": [
    "llm_with_tools.invoke(\"what is 8 times 10\")\n",
    "# there is no content but a tool call "
   ]
  },
  {
   "cell_type": "code",
   "execution_count": 27,
   "id": "725fac3d",
   "metadata": {},
   "outputs": [
    {
     "data": {
      "text/plain": [
       "[{'name': 'multiply',\n",
       "  'args': {'a': 8, 'b': 10},\n",
       "  'id': 'call_PMcB0oCs7gFe8kqSDTdN4TYr',\n",
       "  'type': 'tool_call'}]"
      ]
     },
     "execution_count": 27,
     "metadata": {},
     "output_type": "execute_result"
    }
   ],
   "source": [
    "llm_with_tools.invoke(\"what is 8 times 10\").tool_calls"
   ]
  },
  {
   "cell_type": "markdown",
   "id": "3f513609",
   "metadata": {},
   "source": [
    "3. TOOL EXECUTION"
   ]
  },
  {
   "cell_type": "code",
   "execution_count": 29,
   "id": "81c4b65a",
   "metadata": {},
   "outputs": [
    {
     "name": "stdout",
     "output_type": "stream",
     "text": [
      "{'a': 8, 'b': 10}\n"
     ]
    },
    {
     "data": {
      "text/plain": [
       "80"
      ]
     },
     "execution_count": 29,
     "metadata": {},
     "output_type": "execute_result"
    }
   ],
   "source": [
    "result=llm_with_tools.invoke(\"what is 8 times 10\").tool_calls[0]\n",
    "args=result['args']\n",
    "print(args)\n",
    "multiply.invoke(args)"
   ]
  },
  {
   "cell_type": "code",
   "execution_count": 30,
   "id": "20251c8b",
   "metadata": {},
   "outputs": [
    {
     "data": {
      "text/plain": [
       "ToolMessage(content='80', name='multiply', tool_call_id='call_N80M9o18jMBFPCIYdupCd0Vf')"
      ]
     },
     "execution_count": 30,
     "metadata": {},
     "output_type": "execute_result"
    }
   ],
   "source": [
    "# we can send the entire tool call to the tool\n",
    "result=llm_with_tools.invoke(\"what is 8 times 10\").tool_calls[0]\n",
    "multiply.invoke(result)"
   ]
  },
  {
   "cell_type": "markdown",
   "id": "e7b38c3b",
   "metadata": {},
   "source": [
    "4. FEDDING IT TO LLM"
   ]
  },
  {
   "cell_type": "markdown",
   "id": "5b952dc7",
   "metadata": {},
   "source": [
    "        to give this output of the tool to the LLM to give a response, we need to oraganize things little bit"
   ]
  },
  {
   "cell_type": "code",
   "execution_count": 31,
   "id": "47786cf7",
   "metadata": {},
   "outputs": [],
   "source": [
    "messages=[]\n",
    "query=HumanMessage(\"what is 8 times 10\")\n",
    "messages.append(query)"
   ]
  },
  {
   "cell_type": "code",
   "execution_count": 34,
   "id": "f5c274de",
   "metadata": {},
   "outputs": [],
   "source": [
    "result=llm_with_tools.invoke(query.content)\n",
    "messages.append(result)"
   ]
  },
  {
   "cell_type": "code",
   "execution_count": 39,
   "id": "f2fffb1a",
   "metadata": {},
   "outputs": [
    {
     "data": {
      "text/plain": [
       "[HumanMessage(content='what is 8 times 10', additional_kwargs={}, response_metadata={}),\n",
       " AIMessage(content='', additional_kwargs={'tool_calls': [{'id': 'call_lI0zzfA2mWhd0kefaVEuV7zB', 'function': {'arguments': '{\"a\":8,\"b\":10}', 'name': 'multiply'}, 'type': 'function'}], 'refusal': None}, response_metadata={'token_usage': {'completion_tokens': 17, 'prompt_tokens': 64, 'total_tokens': 81, 'completion_tokens_details': {'accepted_prediction_tokens': 0, 'audio_tokens': 0, 'reasoning_tokens': 0, 'rejected_prediction_tokens': 0}, 'prompt_tokens_details': {'audio_tokens': 0, 'cached_tokens': 0}}, 'model_name': 'gpt-3.5-turbo-0125', 'system_fingerprint': None, 'id': 'chatcmpl-BhRK17nmtpnfAARhD6NE3fW87IYOv', 'service_tier': 'default', 'finish_reason': 'tool_calls', 'logprobs': None}, id='run--acbec826-7c02-42bd-a78e-62ad211b7fb9-0', tool_calls=[{'name': 'multiply', 'args': {'a': 8, 'b': 10}, 'id': 'call_lI0zzfA2mWhd0kefaVEuV7zB', 'type': 'tool_call'}], usage_metadata={'input_tokens': 64, 'output_tokens': 17, 'total_tokens': 81, 'input_token_details': {'audio': 0, 'cache_read': 0}, 'output_token_details': {'audio': 0, 'reasoning': 0}})]"
      ]
     },
     "execution_count": 39,
     "metadata": {},
     "output_type": "execute_result"
    }
   ],
   "source": [
    "messages"
   ]
  },
  {
   "cell_type": "code",
   "execution_count": 41,
   "id": "5a381e60",
   "metadata": {},
   "outputs": [],
   "source": [
    "tool_result=multiply.invoke(result.tool_calls[0])"
   ]
  },
  {
   "cell_type": "code",
   "execution_count": 42,
   "id": "3c681707",
   "metadata": {},
   "outputs": [
    {
     "data": {
      "text/plain": [
       "ToolMessage(content='80', name='multiply', tool_call_id='call_lI0zzfA2mWhd0kefaVEuV7zB')"
      ]
     },
     "execution_count": 42,
     "metadata": {},
     "output_type": "execute_result"
    }
   ],
   "source": [
    "tool_result"
   ]
  },
  {
   "cell_type": "code",
   "execution_count": 43,
   "id": "7a683c57",
   "metadata": {},
   "outputs": [
    {
     "data": {
      "text/plain": [
       "[HumanMessage(content='what is 8 times 10', additional_kwargs={}, response_metadata={}),\n",
       " AIMessage(content='', additional_kwargs={'tool_calls': [{'id': 'call_lI0zzfA2mWhd0kefaVEuV7zB', 'function': {'arguments': '{\"a\":8,\"b\":10}', 'name': 'multiply'}, 'type': 'function'}], 'refusal': None}, response_metadata={'token_usage': {'completion_tokens': 17, 'prompt_tokens': 64, 'total_tokens': 81, 'completion_tokens_details': {'accepted_prediction_tokens': 0, 'audio_tokens': 0, 'reasoning_tokens': 0, 'rejected_prediction_tokens': 0}, 'prompt_tokens_details': {'audio_tokens': 0, 'cached_tokens': 0}}, 'model_name': 'gpt-3.5-turbo-0125', 'system_fingerprint': None, 'id': 'chatcmpl-BhRK17nmtpnfAARhD6NE3fW87IYOv', 'service_tier': 'default', 'finish_reason': 'tool_calls', 'logprobs': None}, id='run--acbec826-7c02-42bd-a78e-62ad211b7fb9-0', tool_calls=[{'name': 'multiply', 'args': {'a': 8, 'b': 10}, 'id': 'call_lI0zzfA2mWhd0kefaVEuV7zB', 'type': 'tool_call'}], usage_metadata={'input_tokens': 64, 'output_tokens': 17, 'total_tokens': 81, 'input_token_details': {'audio': 0, 'cache_read': 0}, 'output_token_details': {'audio': 0, 'reasoning': 0}}),\n",
       " ToolMessage(content='80', name='multiply', tool_call_id='call_lI0zzfA2mWhd0kefaVEuV7zB')]"
      ]
     },
     "execution_count": 43,
     "metadata": {},
     "output_type": "execute_result"
    }
   ],
   "source": [
    "messages.append(tool_result)\n",
    "messages"
   ]
  },
  {
   "cell_type": "code",
   "execution_count": 45,
   "id": "7f5ae715",
   "metadata": {},
   "outputs": [
    {
     "data": {
      "text/plain": [
       "AIMessage(content='The product of 8 and 10 is 80.', additional_kwargs={'refusal': None}, response_metadata={'token_usage': {'completion_tokens': 13, 'prompt_tokens': 89, 'total_tokens': 102, 'completion_tokens_details': {'accepted_prediction_tokens': 0, 'audio_tokens': 0, 'reasoning_tokens': 0, 'rejected_prediction_tokens': 0}, 'prompt_tokens_details': {'audio_tokens': 0, 'cached_tokens': 0}}, 'model_name': 'gpt-3.5-turbo-0125', 'system_fingerprint': None, 'id': 'chatcmpl-BhRMrUx4Jb3XD0ml2IKdkT9OgQCYl', 'service_tier': 'default', 'finish_reason': 'stop', 'logprobs': None}, id='run--f7439763-a354-4016-a0bd-176854e0f703-0', usage_metadata={'input_tokens': 89, 'output_tokens': 13, 'total_tokens': 102, 'input_token_details': {'audio': 0, 'cache_read': 0}, 'output_token_details': {'audio': 0, 'reasoning': 0}})"
      ]
     },
     "execution_count": 45,
     "metadata": {},
     "output_type": "execute_result"
    }
   ],
   "source": [
    "llm_with_tools.invoke(messages)\n",
    "# sending all the conversation history to the LLM"
   ]
  },
  {
   "cell_type": "code",
   "execution_count": null,
   "id": "6e398528",
   "metadata": {},
   "outputs": [],
   "source": []
  }
 ],
 "metadata": {
  "kernelspec": {
   "display_name": "langchain",
   "language": "python",
   "name": "python3"
  },
  "language_info": {
   "codemirror_mode": {
    "name": "ipython",
    "version": 3
   },
   "file_extension": ".py",
   "mimetype": "text/x-python",
   "name": "python",
   "nbconvert_exporter": "python",
   "pygments_lexer": "ipython3",
   "version": "3.13.3"
  }
 },
 "nbformat": 4,
 "nbformat_minor": 5
}
