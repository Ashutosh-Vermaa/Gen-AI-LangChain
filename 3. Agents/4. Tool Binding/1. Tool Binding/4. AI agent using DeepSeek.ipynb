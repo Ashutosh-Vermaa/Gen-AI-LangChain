{
 "cells": [
  {
   "cell_type": "code",
   "execution_count": 2,
   "id": "3f7fb911",
   "metadata": {},
   "outputs": [
    {
     "data": {
      "text/plain": [
       "True"
      ]
     },
     "execution_count": 2,
     "metadata": {},
     "output_type": "execute_result"
    }
   ],
   "source": [
    "from dotenv import load_dotenv\n",
    "from langchain_huggingface import ChatHuggingFace, HuggingFaceEndpoint\n",
    "from langchain import hub\n",
    "from langchain_core.tools import tool\n",
    "from langchain.agents import create_react_agent, AgentExecutor\n",
    "from langchain_community.tools import DuckDuckGoSearchRun\n",
    "import requests\n",
    "load_dotenv() "
   ]
  },
  {
   "cell_type": "code",
   "execution_count": 13,
   "id": "37e6d838",
   "metadata": {},
   "outputs": [],
   "source": [
    "llm=HuggingFaceEndpoint(\n",
    "    repo_id=\"deepseek-ai/DeepSeek-V3\",\n",
    "    # repo_id=\"deepseek-ai/DeepSeek-R1\",\n",
    "    task=\"text generation\"\n",
    ")"
   ]
  },
  {
   "cell_type": "code",
   "execution_count": 14,
   "id": "364268c2",
   "metadata": {},
   "outputs": [],
   "source": [
    "model=ChatHuggingFace(llm=llm)"
   ]
  },
  {
   "cell_type": "code",
   "execution_count": 5,
   "id": "b7afafbd",
   "metadata": {},
   "outputs": [
    {
     "data": {
      "text/plain": [
       "AIMessage(content='<think>\\nHmm, the user just said \"hi\". Okay, this seems like a simple greeting to start a conversation. \\n\\nI wonder if they\\'re testing how I respond or if they genuinely want to chat. The message is very short, so there\\'s not much to go on. Maybe they\\'re new to chatting with AI and feeling a bit hesitant. \\n\\nI should keep my reply warm and open-ended to encourage them to share more. A friendly greeting back feels appropriate, but I\\'ll add a question to prompt further interaction. \\n\\nThe smiley emoji might help make it feel more welcoming since text can seem cold. I\\'ll avoid being too formal - \"Hello!\" feels better than \"Greetings\" for such a casual opener. \\n\\nIf they don\\'t respond after this, I might follow up with another prompt later. But for now, simple and inviting is the way to go.\\n</think>\\nHello! 👋 How can I assist you today? 😊', additional_kwargs={}, response_metadata={'token_usage': {'completion_tokens': 196, 'prompt_tokens': 4, 'total_tokens': 200}, 'model_name': 'deepseek-ai/DeepSeek-R1', 'system_fingerprint': None, 'finish_reason': 'stop', 'logprobs': None}, id='run--579166fe-ac0d-4b69-85bb-c9519912bc20-0', usage_metadata={'input_tokens': 4, 'output_tokens': 196, 'total_tokens': 200})"
      ]
     },
     "execution_count": 5,
     "metadata": {},
     "output_type": "execute_result"
    }
   ],
   "source": [
    "model.invoke(\"hi\")"
   ]
  },
  {
   "cell_type": "code",
   "execution_count": null,
   "id": "145ab9bb",
   "metadata": {},
   "outputs": [],
   "source": []
  },
  {
   "cell_type": "code",
   "execution_count": 6,
   "id": "1380c1f8",
   "metadata": {},
   "outputs": [],
   "source": [
    "@tool\n",
    "def get_weather_data(city: str)-> str:\n",
    "    \"\"\"\n",
    "    This function fetches current data of weather of the given city\n",
    "    \"\"\"\n",
    "    url=f\"http://api.weatherstack.com/current?access_key=368a8f6b510d8d63edcbac3563f8513d&query={city}\"\n",
    "    response=requests.get(url)\n",
    "\n",
    "    return response.json()"
   ]
  },
  {
   "cell_type": "code",
   "execution_count": 7,
   "id": "75612e08",
   "metadata": {},
   "outputs": [
    {
     "data": {
      "text/plain": [
       "\"Reuters.com is your online source for the latest world news stories and current events, ensuring our readers up to date with any breaking news developments Get the latest international news and world events from Asia, Europe, the Middle East, and more. See world news photos and videos at ABCNews.com NPR world news, international art and culture, world business and financial markets, world economy, and global trends in health, science and technology. Subscribe to the World Story of the Day ... Live News journalism from around the world. All but one of the 242 people on board the London-bound flight died when it crashed into a residential area shortly after take-off. World News: Get Latest and breaking news from World. Today's Top International News Headlines, news on politics, Business, Crime, Sports and Current Affairs.\""
      ]
     },
     "execution_count": 7,
     "metadata": {},
     "output_type": "execute_result"
    }
   ],
   "source": [
    "search_tool=DuckDuckGoSearchRun()\n",
    "search_tool.invoke(\"Give latest news worldwide\")"
   ]
  },
  {
   "cell_type": "code",
   "execution_count": 8,
   "id": "3f17aa8b",
   "metadata": {},
   "outputs": [
    {
     "name": "stderr",
     "output_type": "stream",
     "text": [
      "d:\\Documents\\LangChain\\langchain\\Lib\\site-packages\\langsmith\\client.py:272: LangSmithMissingAPIKeyWarning: API key must be provided when using hosted LangSmith API\n",
      "  warnings.warn(\n"
     ]
    }
   ],
   "source": [
    "prompt=hub.pull(\"hwchase17/react\")"
   ]
  },
  {
   "cell_type": "code",
   "execution_count": 15,
   "id": "856b31c2",
   "metadata": {},
   "outputs": [],
   "source": [
    "react_agent=create_react_agent(\n",
    "    llm=model,\n",
    "    tools=[search_tool, get_weather_data],\n",
    "    prompt=prompt\n",
    ")"
   ]
  },
  {
   "cell_type": "code",
   "execution_count": 16,
   "id": "f6e44553",
   "metadata": {},
   "outputs": [],
   "source": [
    "agent_executor=AgentExecutor(\n",
    "    agent=react_agent,\n",
    "    tools=[search_tool, get_weather_data],\n",
    "    verbose=True\n",
    ")"
   ]
  },
  {
   "cell_type": "code",
   "execution_count": 17,
   "id": "bccf14ff",
   "metadata": {},
   "outputs": [
    {
     "name": "stdout",
     "output_type": "stream",
     "text": [
      "\n",
      "\n",
      "\u001b[1m> Entering new AgentExecutor chain...\u001b[0m\n",
      "\u001b[32;1m\u001b[1;3mI need to find the best places to visit in Bhopal and also check the current weather there. I'll first search for the best places to visit and then get the weather data.\n",
      "\n",
      "Action: duckduckgo_search  \n",
      "Action Input: \"best places to visit in Bhopal\"  \n",
      "\n",
      "\u001b[0m\u001b[36;1m\u001b[1;3mBhopal, the capital of Madhya Pradesh, is a city full of culture, architecture, and nature. This guide will show you the 15 top spots to visit in Bhopal. You'll see everything from the famous Sanchi Stupa to the amazing Bhimbetka Caves. These attractions offer a mix of history, beauty, and adventure. They make Bhopal a place you must see. The best place to visit in Bhopal is the Upper Lake, also known as Bada Talab, for its scenic beauty and boating facilities. 4. Where can families visit in Bhopal? Families can visit Van Vihar National Park, Indira Gandhi Rashtriya Manav Sangrahalaya, and Sair Sapata for enjoyable outings. 5. What are some top places to visit with friends in ... 25 Places To Visit In Bhopal. There are plenty of places to visit in Bhopal that you will at least require a couple of days for sightseeing. Bhopal really does have various places to tick off when visiting the city. From the modern world adventure like malls, water parks, parks and dams to old-world charms like museums, forts, and temples, the city really is a gem that has something or other ... A Journey Via Best Places To Visit In Bhopal: Bhopal is a city with something for everyone. You may discover various places in Bhopal that can be amusing, exciting, and full of records. From lakes to parks to ancient monuments, you'll discover many thrilling places to go in Bhopal. Here are the top 15 places to visit in Bhopal, along with 5 ... 5.Sanchi Stupa - The Sacred Buddhist Site. Although located 50 km from Bhopal, the Sanchi Stupa is a must-visit for anyone traveling to Bhopal. Built by Emperor Ashoka in the 3rd century BCE, the stupa symbolizes peace, spirituality, and Buddhist culture.The intricate carvings, grand domes, and ancient inscriptions make it a remarkable place.\u001b[0m\u001b[32;1m\u001b[1;3mNow that I have information about the best places to visit in Bhopal, I need to check the current weather there.\n",
      "\n",
      "Action: get_weather_data  \n",
      "Action Input: \"Bhopal\"  \n",
      "\n",
      "\u001b[0m\u001b[33;1m\u001b[1;3m{'request': {'type': 'City', 'query': 'Bhopal, India', 'language': 'en', 'unit': 'm'}, 'location': {'name': 'Bhopal', 'country': 'India', 'region': 'Madhya Pradesh', 'lat': '23.267', 'lon': '77.400', 'timezone_id': 'Asia/Kolkata', 'localtime': '2025-06-15 09:14', 'localtime_epoch': 1749978840, 'utc_offset': '5.50'}, 'current': {'observation_time': '03:44 AM', 'temperature': 27, 'weather_code': 113, 'weather_icons': ['https://cdn.worldweatheronline.com/images/wsymbols01_png_64/wsymbol_0001_sunny.png'], 'weather_descriptions': ['Sunny'], 'astro': {'sunrise': '05:34 AM', 'sunset': '07:08 PM', 'moonrise': '10:36 PM', 'moonset': '08:55 AM', 'moon_phase': 'Waning Gibbous', 'moon_illumination': 87}, 'air_quality': {'co': '553.15', 'no2': '21.645', 'o3': '72', 'so2': '14.245', 'pm2_5': '66.045', 'pm10': '69.19', 'us-epa-index': '4', 'gb-defra-index': '4'}, 'wind_speed': 5, 'wind_degree': 167, 'wind_dir': 'SSE', 'pressure': 1002, 'precip': 0, 'humidity': 94, 'cloudcover': 25, 'feelslike': 27, 'uv_index': 5, 'visibility': 6, 'is_day': 'yes'}}\u001b[0m\u001b[32;1m\u001b[1;3mI now have the information about the best places to visit in Bhopal and its current weather.\n",
      "\n",
      "### Best Places to Visit in Bhopal:\n",
      "1. **Upper Lake (Bada Talab)** - Scenic beauty and boating facilities.\n",
      "2. **Van Vihar National Park** - A great spot for families and nature lovers.\n",
      "3. **Indira Gandhi Rashtriya Manav Sangrahalaya** - A museum showcasing human evolution and culture.\n",
      "4. **Sair Sapata** - A recreational spot for families and friends.\n",
      "5. **Sanchi Stupa** - A sacred Buddhist site located 50 km from Bhopal, known for its historical significance.\n",
      "6. **Bhimbetka Caves** - Ancient rock shelters with prehistoric paintings.\n",
      "7. **Taj-ul-Masajid** - One of the largest mosques in India.\n",
      "8. **Shaukat Mahal** - A blend of Indo-Islamic and European architecture.\n",
      "9. **Birla Museum** - A museum showcasing artifacts and sculptures.\n",
      "10. **Gohar Mahal** - A historic palace with beautiful architecture.\n",
      "\n",
      "### Current Weather in Bhopal:\n",
      "- **Temperature**: 27°C\n",
      "- **Weather Condition**: Sunny\n",
      "- **Humidity**: 94%\n",
      "- **Wind Speed**: 5 km/h (SSE direction)\n",
      "- **Visibility**: 6 km\n",
      "- **UV Index**: 5\n",
      "- **Sunrise**: 05:34 AM\n",
      "- **Sunset**: 07:08 PM\n",
      "\n",
      "### Final Answer:\n",
      "Bhopal offers a mix of cultural, historical, and natural attractions. Some of the best places to visit include the **Upper Lake**, **Van Vihar National Park**, **Sanchi Stupa**, and **Bhimbetka Caves**. The current weather in Bhopal is **sunny with a temperature of 27°C**, making it a pleasant time to explore the city.\u001b[0m\n",
      "\n",
      "\u001b[1m> Finished chain.\u001b[0m\n"
     ]
    }
   ],
   "source": [
    "response=agent_executor.invoke({'input': \"what are the best places to visit in Bhopal and what's it's weather like?\"})"
   ]
  },
  {
   "cell_type": "code",
   "execution_count": 21,
   "id": "7fa4718e",
   "metadata": {},
   "outputs": [
    {
     "name": "stdout",
     "output_type": "stream",
     "text": [
      "Bhopal offers a mix of cultural, historical, and natural attractions. Some of the best places to visit include the **Upper Lake**, **Van Vihar National Park**, **Sanchi Stupa**, and **Bhimbetka Caves**. The current weather in Bhopal is **sunny with a temperature of 27°C**, making it a pleasant time to explore the city.\n"
     ]
    }
   ],
   "source": [
    "print(response['output'])"
   ]
  },
  {
   "cell_type": "code",
   "execution_count": null,
   "id": "2c54fa05",
   "metadata": {},
   "outputs": [],
   "source": []
  }
 ],
 "metadata": {
  "kernelspec": {
   "display_name": "langchain",
   "language": "python",
   "name": "python3"
  },
  "language_info": {
   "codemirror_mode": {
    "name": "ipython",
    "version": 3
   },
   "file_extension": ".py",
   "mimetype": "text/x-python",
   "name": "python",
   "nbconvert_exporter": "python",
   "pygments_lexer": "ipython3",
   "version": "3.13.3"
  }
 },
 "nbformat": 4,
 "nbformat_minor": 5
}
