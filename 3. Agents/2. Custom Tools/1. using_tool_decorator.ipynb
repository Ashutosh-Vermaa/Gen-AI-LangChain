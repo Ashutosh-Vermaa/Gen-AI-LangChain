{
 "cells": [
  {
   "cell_type": "code",
   "execution_count": 1,
   "id": "8d07f33d",
   "metadata": {},
   "outputs": [],
   "source": [
    "from langchain_core.tools import tool"
   ]
  },
  {
   "cell_type": "markdown",
   "id": "4538f4db",
   "metadata": {},
   "source": [
    "There are different ways to create a custom tool. It is a three step process"
   ]
  },
  {
   "cell_type": "markdown",
   "id": "b1b66ce9",
   "metadata": {},
   "source": [
    "Step 1: write a function. It is highly recommended to docstring for the LLM to understand the function use"
   ]
  },
  {
   "cell_type": "code",
   "execution_count": 2,
   "id": "0919d379",
   "metadata": {},
   "outputs": [],
   "source": [
    "def multiply(a,b):\n",
    "    \"\"\"Mutliplies two number\"\"\"\n",
    "    return a*b"
   ]
  },
  {
   "cell_type": "markdown",
   "id": "b443f2d3",
   "metadata": {},
   "source": [
    "Step 2: Add type hints"
   ]
  },
  {
   "cell_type": "code",
   "execution_count": 3,
   "id": "6402eec4",
   "metadata": {},
   "outputs": [],
   "source": [
    "def multiply(a: int,b:int)-> int:\n",
    "    \"\"\"Mutliplies two number\"\"\"\n",
    "    return a*b"
   ]
  },
  {
   "cell_type": "markdown",
   "id": "c41665f3",
   "metadata": {},
   "source": [
    "step 3: add tool decorator to the function\n",
    "This allows the LLM to interact with it"
   ]
  },
  {
   "cell_type": "code",
   "execution_count": 4,
   "id": "e248a256",
   "metadata": {},
   "outputs": [],
   "source": [
    "@tool\n",
    "def multiply(a: int,b:int)-> int:\n",
    "    \"\"\"Mutliplies two number\"\"\"\n",
    "    return a*b"
   ]
  },
  {
   "cell_type": "markdown",
   "id": "da67d3eb",
   "metadata": {},
   "source": [
    "Using tool"
   ]
  },
  {
   "cell_type": "code",
   "execution_count": 6,
   "id": "6baf1edc",
   "metadata": {},
   "outputs": [
    {
     "name": "stdout",
     "output_type": "stream",
     "text": [
      "36\n"
     ]
    }
   ],
   "source": [
    "result=multiply.invoke({'a':4, \"b\":9})\n",
    "print(result)"
   ]
  },
  {
   "cell_type": "markdown",
   "id": "7b6ca612",
   "metadata": {},
   "source": [
    "All the tools have the below three attributes"
   ]
  },
  {
   "cell_type": "code",
   "execution_count": 7,
   "id": "0fd089d1",
   "metadata": {},
   "outputs": [
    {
     "name": "stdout",
     "output_type": "stream",
     "text": [
      "multiply\n",
      "Mutliplies two number\n",
      "{'a': {'title': 'A', 'type': 'integer'}, 'b': {'title': 'B', 'type': 'integer'}}\n"
     ]
    }
   ],
   "source": [
    "print(multiply.name)\n",
    "print(multiply.description)\n",
    "print(multiply.args)"
   ]
  },
  {
   "cell_type": "markdown",
   "id": "8e0129aa",
   "metadata": {},
   "source": [
    "The function logic is not sent to the LLM but the schema as below"
   ]
  },
  {
   "cell_type": "code",
   "execution_count": 9,
   "id": "bd2fdc70",
   "metadata": {},
   "outputs": [
    {
     "name": "stdout",
     "output_type": "stream",
     "text": [
      "{'description': 'Mutliplies two number', 'properties': {'a': {'title': 'A', 'type': 'integer'}, 'b': {'title': 'B', 'type': 'integer'}}, 'required': ['a', 'b'], 'title': 'multiply', 'type': 'object'}\n"
     ]
    }
   ],
   "source": [
    "print(multiply.args_schema.model_json_schema())"
   ]
  }
 ],
 "metadata": {
  "kernelspec": {
   "display_name": "langchain",
   "language": "python",
   "name": "python3"
  },
  "language_info": {
   "codemirror_mode": {
    "name": "ipython",
    "version": 3
   },
   "file_extension": ".py",
   "mimetype": "text/x-python",
   "name": "python",
   "nbconvert_exporter": "python",
   "pygments_lexer": "ipython3",
   "version": "3.13.3"
  }
 },
 "nbformat": 4,
 "nbformat_minor": 5
}
