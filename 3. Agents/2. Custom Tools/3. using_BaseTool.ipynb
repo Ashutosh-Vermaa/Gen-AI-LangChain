{
 "cells": [
  {
   "cell_type": "code",
   "execution_count": 3,
   "id": "5fabcc9d",
   "metadata": {},
   "outputs": [],
   "source": [
    "from langchain.tools import BaseTool\n",
    "from typing import Type\n",
    "from pydantic import Field, BaseModel"
   ]
  },
  {
   "cell_type": "code",
   "execution_count": 4,
   "id": "b92eede8",
   "metadata": {},
   "outputs": [],
   "source": [
    "# args schema using pydantic\n",
    "class MultiplyInput(BaseModel):\n",
    "    a: int = Field(required=True, description=\"The first number to multiply\")\n",
    "    b: int = Field(required=True, description=\"The second number to multiply\")"
   ]
  },
  {
   "cell_type": "code",
   "execution_count": 5,
   "id": "4a9ea0ce",
   "metadata": {},
   "outputs": [],
   "source": [
    "class MultiplyTool(BaseTool):\n",
    "    name: str= \"multiply\"\n",
    "    description: str= \"multiply two numbers\"\n",
    "    args_schema: Type[BaseModel]= MultiplyInput\n",
    "\n",
    "    def _run(self, a: int, b:int) -> int:\n",
    "        return a*b"
   ]
  },
  {
   "cell_type": "code",
   "execution_count": 6,
   "id": "37169430",
   "metadata": {},
   "outputs": [],
   "source": [
    "multiply_tool=MultiplyTool()"
   ]
  },
  {
   "cell_type": "code",
   "execution_count": 7,
   "id": "13d9c5a4",
   "metadata": {},
   "outputs": [
    {
     "data": {
      "text/plain": [
       "20"
      ]
     },
     "execution_count": 7,
     "metadata": {},
     "output_type": "execute_result"
    }
   ],
   "source": [
    "multiply_tool.invoke({'a':4, 'b':5})"
   ]
  },
  {
   "cell_type": "code",
   "execution_count": 8,
   "id": "84dfac92",
   "metadata": {},
   "outputs": [
    {
     "name": "stdout",
     "output_type": "stream",
     "text": [
      "multiply\n",
      "multiply two numbers\n",
      "{'a': {'description': 'The first number to multiply', 'required': True, 'title': 'A', 'type': 'integer'}, 'b': {'description': 'The second number to multiply', 'required': True, 'title': 'B', 'type': 'integer'}}\n"
     ]
    }
   ],
   "source": [
    "print(multiply_tool.name)\n",
    "print(multiply_tool.description)\n",
    "print(multiply_tool.args)"
   ]
  }
 ],
 "metadata": {
  "kernelspec": {
   "display_name": "langchain",
   "language": "python",
   "name": "python3"
  },
  "language_info": {
   "codemirror_mode": {
    "name": "ipython",
    "version": 3
   },
   "file_extension": ".py",
   "mimetype": "text/x-python",
   "name": "python",
   "nbconvert_exporter": "python",
   "pygments_lexer": "ipython3",
   "version": "3.13.3"
  }
 },
 "nbformat": 4,
 "nbformat_minor": 5
}
